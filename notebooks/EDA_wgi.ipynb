{
 "cells": [
  {
   "cell_type": "code",
   "execution_count": 45,
   "metadata": {},
   "outputs": [
    {
     "name": "stdout",
     "output_type": "stream",
     "text": [
      "2020-10-03 15:06:07,153 - kedro.io.data_catalog - INFO - Loading data from `clean_wig_data` (CSVDataSet)...\n"
     ]
    },
    {
     "data": {
      "text/html": [
       "<div>\n",
       "<style scoped>\n",
       "    .dataframe tbody tr th:only-of-type {\n",
       "        vertical-align: middle;\n",
       "    }\n",
       "\n",
       "    .dataframe tbody tr th {\n",
       "        vertical-align: top;\n",
       "    }\n",
       "\n",
       "    .dataframe thead th {\n",
       "        text-align: right;\n",
       "    }\n",
       "</style>\n",
       "<table border=\"1\" class=\"dataframe\">\n",
       "  <thead>\n",
       "    <tr style=\"text-align: right;\">\n",
       "      <th></th>\n",
       "      <th>year</th>\n",
       "      <th>code</th>\n",
       "      <th>countryname</th>\n",
       "      <th>vae</th>\n",
       "      <th>pve</th>\n",
       "      <th>gee</th>\n",
       "      <th>rqe</th>\n",
       "      <th>rle</th>\n",
       "      <th>cce</th>\n",
       "    </tr>\n",
       "  </thead>\n",
       "  <tbody>\n",
       "    <tr>\n",
       "      <th>0</th>\n",
       "      <td>1996</td>\n",
       "      <td>ABW</td>\n",
       "      <td>Aruba</td>\n",
       "      <td>NaN</td>\n",
       "      <td>NaN</td>\n",
       "      <td>NaN</td>\n",
       "      <td>NaN</td>\n",
       "      <td>NaN</td>\n",
       "      <td>NaN</td>\n",
       "    </tr>\n",
       "    <tr>\n",
       "      <th>1</th>\n",
       "      <td>1998</td>\n",
       "      <td>ABW</td>\n",
       "      <td>Aruba</td>\n",
       "      <td>NaN</td>\n",
       "      <td>NaN</td>\n",
       "      <td>NaN</td>\n",
       "      <td>NaN</td>\n",
       "      <td>NaN</td>\n",
       "      <td>NaN</td>\n",
       "    </tr>\n",
       "    <tr>\n",
       "      <th>2</th>\n",
       "      <td>2000</td>\n",
       "      <td>ABW</td>\n",
       "      <td>Aruba</td>\n",
       "      <td>NaN</td>\n",
       "      <td>NaN</td>\n",
       "      <td>NaN</td>\n",
       "      <td>NaN</td>\n",
       "      <td>NaN</td>\n",
       "      <td>NaN</td>\n",
       "    </tr>\n",
       "    <tr>\n",
       "      <th>3</th>\n",
       "      <td>2002</td>\n",
       "      <td>ABW</td>\n",
       "      <td>Aruba</td>\n",
       "      <td>NaN</td>\n",
       "      <td>NaN</td>\n",
       "      <td>NaN</td>\n",
       "      <td>NaN</td>\n",
       "      <td>NaN</td>\n",
       "      <td>NaN</td>\n",
       "    </tr>\n",
       "    <tr>\n",
       "      <th>4</th>\n",
       "      <td>2003</td>\n",
       "      <td>ABW</td>\n",
       "      <td>Aruba</td>\n",
       "      <td>NaN</td>\n",
       "      <td>NaN</td>\n",
       "      <td>NaN</td>\n",
       "      <td>NaN</td>\n",
       "      <td>NaN</td>\n",
       "      <td>NaN</td>\n",
       "    </tr>\n",
       "  </tbody>\n",
       "</table>\n",
       "</div>"
      ],
      "text/plain": [
       "   year code countryname  vae  pve  gee  rqe  rle  cce\n",
       "0  1996  ABW       Aruba  NaN  NaN  NaN  NaN  NaN  NaN\n",
       "1  1998  ABW       Aruba  NaN  NaN  NaN  NaN  NaN  NaN\n",
       "2  2000  ABW       Aruba  NaN  NaN  NaN  NaN  NaN  NaN\n",
       "3  2002  ABW       Aruba  NaN  NaN  NaN  NaN  NaN  NaN\n",
       "4  2003  ABW       Aruba  NaN  NaN  NaN  NaN  NaN  NaN"
      ]
     },
     "execution_count": 45,
     "metadata": {},
     "output_type": "execute_result"
    }
   ],
   "source": [
    "import numpy as np\n",
    "import matplotlib as plt\n",
    "import pandas as pd\n",
    "from pandas_profiling import ProfileReport\n",
    "\n",
    "df  = catalog.load(\"clean_wig_data\")\n",
    "df.head()"
   ]
  },
  {
   "cell_type": "code",
   "execution_count": 51,
   "metadata": {},
   "outputs": [
    {
     "name": "stdout",
     "output_type": "stream",
     "text": [
      "<class 'pandas.core.frame.DataFrame'>\n",
      "RangeIndex: 4494 entries, 0 to 4493\n",
      "Data columns (total 10 columns):\n",
      " #   Column       Non-Null Count  Dtype  \n",
      "---  ------       --------------  -----  \n",
      " 0   year         4494 non-null   int64  \n",
      " 1   code         4494 non-null   object \n",
      " 2   countryname  4494 non-null   object \n",
      " 3   vae          4344 non-null   float64\n",
      " 4   pve          4323 non-null   float64\n",
      " 5   gee          4307 non-null   float64\n",
      " 6   rqe          4307 non-null   float64\n",
      " 7   rle          4379 non-null   float64\n",
      " 8   cce          4321 non-null   float64\n",
      " 9   exp_val      4494 non-null   float64\n",
      "dtypes: float64(7), int64(1), object(2)\n",
      "memory usage: 351.2+ KB\n"
     ]
    },
    {
     "data": {
      "text/plain": [
       "0        0.416667\n",
       "1        0.454545\n",
       "2        0.500000\n",
       "3        0.555556\n",
       "4        0.588235\n",
       "          ...    \n",
       "4489     2.000000\n",
       "4490     2.500000\n",
       "4491     3.333333\n",
       "4492     5.000000\n",
       "4493    10.000000\n",
       "Name: exp_val, Length: 4494, dtype: float64"
      ]
     },
     "execution_count": 51,
     "metadata": {},
     "output_type": "execute_result"
    },
    {
     "data": {
      "image/png": "[encoded data removed]",
      "text/plain": [
       "<Figure size 432x288 with 1 Axes>"
      ]
     },
     "metadata": {
      "needs_background": "light"
     },
     "output_type": "display_data"
    }
   ],
   "source": [
    "\n",
    "\n",
    "df.info()\n",
    "df.year.describe()\n",
    "np.abs(np.arange(1996, 2019) - 2019)\n",
    "df[\"exp_val\"] = 10/np.abs(2020 - df[\"year\"])\n",
    "df.plot(\"year\", \"exp_val\", kind = \"scatter\")\n",
    "df[\"exp_val\"]"
   ]
  },
  {
   "cell_type": "code",
   "execution_count": 47,
   "metadata": {},
   "outputs": [
    {
     "data": {
      "application/vnd.jupyter.widget-view+json": {
       "model_id": "1c4641939b954834a46f3e48321cd148",
       "version_major": 2,
       "version_minor": 0
      },
      "text/plain": [
       "HBox(children=(HTML(value='Summarize dataset'), FloatProgress(value=0.0, max=24.0), HTML(value='')))"
      ]
     },
     "metadata": {},
     "output_type": "display_data"
    },
    {
     "name": "stdout",
     "output_type": "stream",
     "text": [
      "\n"
     ]
    },
    {
     "data": {
      "application/vnd.jupyter.widget-view+json": {
       "model_id": "30227c705b7044189094a3dc5dfef6cf",
       "version_major": 2,
       "version_minor": 0
      },
      "text/plain": [
       "HBox(children=(HTML(value='Generate report structure'), FloatProgress(value=0.0, max=1.0), HTML(value='')))"
      ]
     },
     "metadata": {},
     "output_type": "display_data"
    },
    {
     "name": "stdout",
     "output_type": "stream",
     "text": [
      "\n"
     ]
    },
    {
     "data": {
      "application/vnd.jupyter.widget-view+json": {
       "model_id": "",
       "version_major": 2,
       "version_minor": 0
      },
      "text/plain": [
       "HBox(children=(HTML(value='Render widgets'), FloatProgress(value=0.0, max=1.0), HTML(value='')))"
      ]
     },
     "metadata": {},
     "output_type": "display_data"
    },
    {
     "data": {
      "application/vnd.jupyter.widget-view+json": {
       "model_id": "63de2944886b43d3b59dde5ad8186a0e",
       "version_major": 2,
       "version_minor": 0
      },
      "text/plain": [
       "VBox(children=(Tab(children=(Tab(children=(GridBox(children=(VBox(children=(GridspecLayout(children=(HTML(valu…"
      ]
     },
     "metadata": {},
     "output_type": "display_data"
    }
   ],
   "source": [
    "pf = ProfileReport(df)\n",
    "pf.to_widgets()\n"
   ]
  },
  {
   "cell_type": "code",
   "execution_count": 39,
   "metadata": {},
   "outputs": [],
   "source": [
    "df[\"vae\"] = df[\"vae\"] * df[\"exp_val\"]\n",
    "df[\"pve\"] = df[\"pve\"] * df[\"exp_val\"]\n",
    "df[\"gee\"] = df[\"gee\"] * df[\"exp_val\"]\n",
    "df[\"rqe\"] = df[\"rqe\"] * df[\"exp_val\"]\n",
    "df[\"rle\"] = df[\"rle\"] * df[\"exp_val\"]\n",
    "df[\"cce\"] = df[\"cce\"] * df[\"exp_val\"]\n",
    "\n"
   ]
  },
  {
   "cell_type": "code",
   "execution_count": 52,
   "metadata": {},
   "outputs": [
    {
     "data": {
      "text/html": [
       "<div>\n",
       "<style scoped>\n",
       "    .dataframe tbody tr th:only-of-type {\n",
       "        vertical-align: middle;\n",
       "    }\n",
       "\n",
       "    .dataframe tbody tr th {\n",
       "        vertical-align: top;\n",
       "    }\n",
       "\n",
       "    .dataframe thead th {\n",
       "        text-align: right;\n",
       "    }\n",
       "</style>\n",
       "<table border=\"1\" class=\"dataframe\">\n",
       "  <thead>\n",
       "    <tr style=\"text-align: right;\">\n",
       "      <th></th>\n",
       "      <th></th>\n",
       "      <th>vae</th>\n",
       "      <th>pve</th>\n",
       "      <th>gee</th>\n",
       "      <th>rqe</th>\n",
       "      <th>rle</th>\n",
       "      <th>cce</th>\n",
       "    </tr>\n",
       "    <tr>\n",
       "      <th>code</th>\n",
       "      <th>countryname</th>\n",
       "      <th></th>\n",
       "      <th></th>\n",
       "      <th></th>\n",
       "      <th></th>\n",
       "      <th></th>\n",
       "      <th></th>\n",
       "    </tr>\n",
       "  </thead>\n",
       "  <tbody>\n",
       "    <tr>\n",
       "      <th>ABW</th>\n",
       "      <th>Aruba</th>\n",
       "      <td>18.942534</td>\n",
       "      <td>20.105748</td>\n",
       "      <td>18.562952</td>\n",
       "      <td>17.941266</td>\n",
       "      <td>18.557664</td>\n",
       "      <td>19.226894</td>\n",
       "    </tr>\n",
       "    <tr>\n",
       "      <th>ADO</th>\n",
       "      <th>Andorra</th>\n",
       "      <td>28.293651</td>\n",
       "      <td>28.084854</td>\n",
       "      <td>33.353524</td>\n",
       "      <td>27.522884</td>\n",
       "      <td>27.692124</td>\n",
       "      <td>26.845879</td>\n",
       "    </tr>\n",
       "    <tr>\n",
       "      <th>AFG</th>\n",
       "      <th>Afghanistan</th>\n",
       "      <td>-27.141311</td>\n",
       "      <td>-51.786677</td>\n",
       "      <td>-30.896522</td>\n",
       "      <td>-31.809867</td>\n",
       "      <td>-35.670107</td>\n",
       "      <td>-30.074487</td>\n",
       "    </tr>\n",
       "    <tr>\n",
       "      <th>AGO</th>\n",
       "      <th>Angola</th>\n",
       "      <td>-24.853571</td>\n",
       "      <td>-16.343417</td>\n",
       "      <td>-23.948097</td>\n",
       "      <td>-24.213176</td>\n",
       "      <td>-27.883189</td>\n",
       "      <td>-27.547790</td>\n",
       "    </tr>\n",
       "    <tr>\n",
       "      <th>AIA</th>\n",
       "      <th>Anguilla</th>\n",
       "      <td>9.706387</td>\n",
       "      <td>19.878532</td>\n",
       "      <td>20.629680</td>\n",
       "      <td>18.165137</td>\n",
       "      <td>14.633844</td>\n",
       "      <td>19.781377</td>\n",
       "    </tr>\n",
       "    <tr>\n",
       "      <th>...</th>\n",
       "      <th>...</th>\n",
       "      <td>...</td>\n",
       "      <td>...</td>\n",
       "      <td>...</td>\n",
       "      <td>...</td>\n",
       "      <td>...</td>\n",
       "      <td>...</td>\n",
       "    </tr>\n",
       "    <tr>\n",
       "      <th>YEM</th>\n",
       "      <th>Yemen, Rep.</th>\n",
       "      <td>-26.254652</td>\n",
       "      <td>-43.191418</td>\n",
       "      <td>-25.185703</td>\n",
       "      <td>-18.625317</td>\n",
       "      <td>-27.710182</td>\n",
       "      <td>-24.612379</td>\n",
       "    </tr>\n",
       "    <tr>\n",
       "      <th>ZAF</th>\n",
       "      <th>South Africa</th>\n",
       "      <td>13.816327</td>\n",
       "      <td>-3.097508</td>\n",
       "      <td>10.477136</td>\n",
       "      <td>9.052414</td>\n",
       "      <td>2.325228</td>\n",
       "      <td>4.997292</td>\n",
       "    </tr>\n",
       "    <tr>\n",
       "      <th>ZAR</th>\n",
       "      <th>Congo, Dem. Rep.</th>\n",
       "      <td>-30.841217</td>\n",
       "      <td>-46.472093</td>\n",
       "      <td>-34.443813</td>\n",
       "      <td>-32.023430</td>\n",
       "      <td>-35.314728</td>\n",
       "      <td>-29.884780</td>\n",
       "    </tr>\n",
       "    <tr>\n",
       "      <th>ZMB</th>\n",
       "      <th>Zambia</th>\n",
       "      <td>-5.732069</td>\n",
       "      <td>4.802307</td>\n",
       "      <td>-15.469381</td>\n",
       "      <td>-10.152870</td>\n",
       "      <td>-8.522092</td>\n",
       "      <td>-11.067243</td>\n",
       "    </tr>\n",
       "    <tr>\n",
       "      <th>ZWE</th>\n",
       "      <th>Zimbabwe</th>\n",
       "      <td>-27.565887</td>\n",
       "      <td>-19.828653</td>\n",
       "      <td>-23.874832</td>\n",
       "      <td>-37.012132</td>\n",
       "      <td>-31.734765</td>\n",
       "      <td>-25.580116</td>\n",
       "    </tr>\n",
       "  </tbody>\n",
       "</table>\n",
       "<p>214 rows × 6 columns</p>\n",
       "</div>"
      ],
      "text/plain": [
       "                             vae        pve        gee        rqe        rle  \\\n",
       "code countryname                                                               \n",
       "ABW  Aruba             18.942534  20.105748  18.562952  17.941266  18.557664   \n",
       "ADO  Andorra           28.293651  28.084854  33.353524  27.522884  27.692124   \n",
       "AFG  Afghanistan      -27.141311 -51.786677 -30.896522 -31.809867 -35.670107   \n",
       "AGO  Angola           -24.853571 -16.343417 -23.948097 -24.213176 -27.883189   \n",
       "AIA  Anguilla           9.706387  19.878532  20.629680  18.165137  14.633844   \n",
       "...                          ...        ...        ...        ...        ...   \n",
       "YEM  Yemen, Rep.      -26.254652 -43.191418 -25.185703 -18.625317 -27.710182   \n",
       "ZAF  South Africa      13.816327  -3.097508  10.477136   9.052414   2.325228   \n",
       "ZAR  Congo, Dem. Rep. -30.841217 -46.472093 -34.443813 -32.023430 -35.314728   \n",
       "ZMB  Zambia            -5.732069   4.802307 -15.469381 -10.152870  -8.522092   \n",
       "ZWE  Zimbabwe         -27.565887 -19.828653 -23.874832 -37.012132 -31.734765   \n",
       "\n",
       "                             cce  \n",
       "code countryname                  \n",
       "ABW  Aruba             19.226894  \n",
       "ADO  Andorra           26.845879  \n",
       "AFG  Afghanistan      -30.074487  \n",
       "AGO  Angola           -27.547790  \n",
       "AIA  Anguilla          19.781377  \n",
       "...                          ...  \n",
       "YEM  Yemen, Rep.      -24.612379  \n",
       "ZAF  South Africa       4.997292  \n",
       "ZAR  Congo, Dem. Rep. -29.884780  \n",
       "ZMB  Zambia           -11.067243  \n",
       "ZWE  Zimbabwe         -25.580116  \n",
       "\n",
       "[214 rows x 6 columns]"
      ]
     },
     "execution_count": 52,
     "metadata": {},
     "output_type": "execute_result"
    }
   ],
   "source": [
    "df.groupby([\"code\",\"countryname\"]).agg({\"vae\": \"sum\",\n",
    "\"pve\": \"sum\",\n",
    "\"gee\": \"sum\",\n",
    "\"rqe\": \"sum\",\n",
    "\"rle\": \"sum\",\n",
    "\"cce\": \"sum\"})"
   ]
  },
  {
   "cell_type": "code",
   "execution_count": null,
   "metadata": {},
   "outputs": [],
   "source": [
    "df2 = catalog.load(\"\")"
   ]
  }
 ],
 "metadata": {
  "kernelspec": {
   "display_name": "Datathon2020",
   "language": "python",
   "name": "python3"
  },
  "language_info": {
   "codemirror_mode": {
    "name": "ipython",
    "version": 3
   },
   "file_extension": ".py",
   "mimetype": "text/x-python",
   "name": "python",
   "nbconvert_exporter": "python",
   "pygments_lexer": "ipython3",
   "version": "3.7.9"
  }
 },
 "nbformat": 4,
 "nbformat_minor": 4
}
